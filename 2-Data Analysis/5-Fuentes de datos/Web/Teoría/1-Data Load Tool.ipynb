{
 "cells": [
  {
   "cell_type": "markdown",
   "metadata": {},
   "source": [
    "# Extracción sistemática\n",
    "\n",
    "Una de las principales albores de los ingenieros de datos es la obtención sistemática de datos para poblar nuestros sistemas de analítica. Para ello existen herramientas especializadas que no solo pueden leer de sistemas corporativos (Bases de Datos) si no también de APIs. Aquí veremos una solución de nueva generación que nos ofrece multitud de opciones."
   ]
  },
  {
   "cell_type": "code",
   "execution_count": null,
   "metadata": {},
   "outputs": [
    {
     "name": "stdout",
     "output_type": "stream",
     "text": [
      "Defaulting to user installation because normal site-packages is not writeable\n",
      "Collecting dlt\n",
      "  Downloading dlt-1.11.0-py3-none-any.whl.metadata (11 kB)\n",
      "Requirement already satisfied: PyYAML>=5.4.1 in c:\\users\\urios\\appdata\\roaming\\python\\python311\\site-packages (from dlt) (6.0.1)\n",
      "Requirement already satisfied: click>=7.1 in c:\\users\\urios\\appdata\\roaming\\python\\python311\\site-packages (from dlt) (8.1.7)\n",
      "Requirement already satisfied: fsspec>=2022.4.0 in c:\\users\\urios\\appdata\\roaming\\python\\python311\\site-packages (from dlt) (2024.6.1)\n",
      "Collecting gitpython>=3.1.29 (from dlt)\n",
      "  Downloading GitPython-3.1.44-py3-none-any.whl.metadata (13 kB)\n",
      "Collecting giturlparse>=0.10.0 (from dlt)\n",
      "  Using cached giturlparse-0.12.0-py2.py3-none-any.whl.metadata (4.5 kB)\n",
      "Collecting hexbytes>=0.2.2 (from dlt)\n",
      "  Downloading hexbytes-1.3.1-py3-none-any.whl.metadata (3.3 kB)\n",
      "Collecting humanize>=4.4.0 (from dlt)\n",
      "  Downloading humanize-4.12.3-py3-none-any.whl.metadata (7.8 kB)\n",
      "Collecting jsonpath-ng>=1.5.3 (from dlt)\n",
      "  Downloading jsonpath_ng-1.7.0-py3-none-any.whl.metadata (18 kB)\n",
      "Collecting makefun>=1.15.0 (from dlt)\n",
      "  Downloading makefun-1.16.0-py2.py3-none-any.whl.metadata (2.9 kB)\n",
      "Requirement already satisfied: orjson!=3.10.1,!=3.9.11,!=3.9.12,!=3.9.13,!=3.9.14,<4,>=3.6.7 in c:\\users\\urios\\appdata\\roaming\\python\\python311\\site-packages (from dlt) (3.10.7)\n",
      "Requirement already satisfied: packaging>=21.1 in c:\\users\\urios\\appdata\\roaming\\python\\python311\\site-packages (from dlt) (23.1)\n",
      "Collecting pathvalidate>=2.5.2 (from dlt)\n",
      "  Downloading pathvalidate-3.2.3-py3-none-any.whl.metadata (12 kB)\n",
      "Collecting pendulum>=2.1.2 (from dlt)\n",
      "  Downloading pendulum-3.1.0-cp311-cp311-win_amd64.whl.metadata (6.9 kB)\n",
      "Collecting pluggy>=1.3.0 (from dlt)\n",
      "  Downloading pluggy-1.6.0-py3-none-any.whl.metadata (4.8 kB)\n",
      "Requirement already satisfied: pytz>=2022.6 in c:\\users\\urios\\appdata\\roaming\\python\\python311\\site-packages (from dlt) (2024.1)\n",
      "Requirement already satisfied: pywin32>=306 in c:\\users\\urios\\appdata\\roaming\\python\\python311\\site-packages (from dlt) (306)\n",
      "Requirement already satisfied: requests>=2.26.0 in c:\\users\\urios\\appdata\\roaming\\python\\python311\\site-packages (from dlt) (2.31.0)\n",
      "Collecting requirements-parser>=0.5.0 (from dlt)\n",
      "  Downloading requirements_parser-0.11.0-py3-none-any.whl.metadata (4.7 kB)\n",
      "Collecting rich-argparse<2.0.0,>=1.6.0 (from dlt)\n",
      "  Downloading rich_argparse-1.7.0-py3-none-any.whl.metadata (14 kB)\n",
      "Collecting semver>=3.0.0 (from dlt)\n",
      "  Downloading semver-3.0.4-py3-none-any.whl.metadata (6.8 kB)\n",
      "Requirement already satisfied: setuptools>=65.6.0 in c:\\programdata\\anaconda3\\envs\\python3119\\lib\\site-packages (from dlt) (69.5.1)\n",
      "Requirement already satisfied: simplejson>=3.17.5 in c:\\users\\urios\\appdata\\roaming\\python\\python311\\site-packages (from dlt) (3.19.3)\n",
      "Requirement already satisfied: sqlglot>=23.0.0 in c:\\users\\urios\\appdata\\roaming\\python\\python311\\site-packages (from dlt) (23.12.2)\n",
      "Requirement already satisfied: tenacity>=8.0.2 in c:\\users\\urios\\appdata\\roaming\\python\\python311\\site-packages (from dlt) (8.5.0)\n",
      "Requirement already satisfied: tomlkit>=0.11.3 in c:\\users\\urios\\appdata\\roaming\\python\\python311\\site-packages (from dlt) (0.12.0)\n",
      "Requirement already satisfied: typing-extensions>=4.8.0 in c:\\users\\urios\\appdata\\roaming\\python\\python311\\site-packages (from dlt) (4.12.2)\n",
      "Requirement already satisfied: tzdata>=2022.1 in c:\\users\\urios\\appdata\\roaming\\python\\python311\\site-packages (from dlt) (2024.1)\n",
      "Collecting win-precise-time>=1.4.2 (from dlt)\n",
      "  Downloading win_precise_time-1.4.2-cp311-cp311-win_amd64.whl.metadata (3.0 kB)\n",
      "Requirement already satisfied: colorama in c:\\users\\urios\\appdata\\roaming\\python\\python311\\site-packages (from click>=7.1->dlt) (0.4.6)\n",
      "Collecting gitdb<5,>=4.0.1 (from gitpython>=3.1.29->dlt)\n",
      "  Downloading gitdb-4.0.12-py3-none-any.whl.metadata (1.2 kB)\n",
      "Collecting ply (from jsonpath-ng>=1.5.3->dlt)\n",
      "  Using cached ply-3.11-py2.py3-none-any.whl.metadata (844 bytes)\n",
      "Requirement already satisfied: python-dateutil>=2.6 in c:\\users\\urios\\appdata\\roaming\\python\\python311\\site-packages (from pendulum>=2.1.2->dlt) (2.8.2)\n",
      "Requirement already satisfied: charset-normalizer<4,>=2 in c:\\users\\urios\\appdata\\roaming\\python\\python311\\site-packages (from requests>=2.26.0->dlt) (3.3.0)\n",
      "Requirement already satisfied: idna<4,>=2.5 in c:\\users\\urios\\appdata\\roaming\\python\\python311\\site-packages (from requests>=2.26.0->dlt) (3.4)\n",
      "Requirement already satisfied: urllib3<3,>=1.21.1 in c:\\users\\urios\\appdata\\roaming\\python\\python311\\site-packages (from requests>=2.26.0->dlt) (2.0.5)\n",
      "Requirement already satisfied: certifi>=2017.4.17 in c:\\users\\urios\\appdata\\roaming\\python\\python311\\site-packages (from requests>=2.26.0->dlt) (2023.7.22)\n",
      "Collecting packaging>=21.1 (from dlt)\n",
      "  Downloading packaging-25.0-py3-none-any.whl.metadata (3.3 kB)\n",
      "Collecting types-setuptools>=69.1.0 (from requirements-parser>=0.5.0->dlt)\n",
      "  Downloading types_setuptools-80.7.0.20250516-py3-none-any.whl.metadata (2.0 kB)\n",
      "Requirement already satisfied: rich>=11.0.0 in c:\\users\\urios\\appdata\\roaming\\python\\python311\\site-packages (from rich-argparse<2.0.0,>=1.6.0->dlt) (13.7.1)\n",
      "Collecting smmap<6,>=3.0.1 (from gitdb<5,>=4.0.1->gitpython>=3.1.29->dlt)\n",
      "  Downloading smmap-5.0.2-py3-none-any.whl.metadata (4.3 kB)\n",
      "Requirement already satisfied: six>=1.5 in c:\\users\\urios\\appdata\\roaming\\python\\python311\\site-packages (from python-dateutil>=2.6->pendulum>=2.1.2->dlt) (1.16.0)\n",
      "Requirement already satisfied: markdown-it-py>=2.2.0 in c:\\users\\urios\\appdata\\roaming\\python\\python311\\site-packages (from rich>=11.0.0->rich-argparse<2.0.0,>=1.6.0->dlt) (3.0.0)\n",
      "Requirement already satisfied: pygments<3.0.0,>=2.13.0 in c:\\users\\urios\\appdata\\roaming\\python\\python311\\site-packages (from rich>=11.0.0->rich-argparse<2.0.0,>=1.6.0->dlt) (2.16.1)\n",
      "Requirement already satisfied: mdurl~=0.1 in c:\\users\\urios\\appdata\\roaming\\python\\python311\\site-packages (from markdown-it-py>=2.2.0->rich>=11.0.0->rich-argparse<2.0.0,>=1.6.0->dlt) (0.1.2)\n",
      "Downloading dlt-1.11.0-py3-none-any.whl (926 kB)\n",
      "   ---------------------------------------- 0.0/926.0 kB ? eta -:--:--\n",
      "   --- ------------------------------------ 92.2/926.0 kB 5.5 MB/s eta 0:00:01\n",
      "   --------------------- ------------------ 491.5/926.0 kB 6.2 MB/s eta 0:00:01\n",
      "   ---------------------------------------- 926.0/926.0 kB 8.4 MB/s eta 0:00:00\n",
      "Downloading GitPython-3.1.44-py3-none-any.whl (207 kB)\n",
      "   ---------------------------------------- 0.0/207.6 kB ? eta -:--:--\n",
      "   --------------------------------------- 207.6/207.6 kB 12.3 MB/s eta 0:00:00\n",
      "Using cached giturlparse-0.12.0-py2.py3-none-any.whl (15 kB)\n",
      "Downloading hexbytes-1.3.1-py3-none-any.whl (5.1 kB)\n",
      "Downloading humanize-4.12.3-py3-none-any.whl (128 kB)\n",
      "   ---------------------------------------- 0.0/128.5 kB ? eta -:--:--\n",
      "   ---------------------------------------- 128.5/128.5 kB ? eta 0:00:00\n",
      "Downloading jsonpath_ng-1.7.0-py3-none-any.whl (30 kB)\n",
      "Downloading makefun-1.16.0-py2.py3-none-any.whl (22 kB)\n",
      "Downloading pathvalidate-3.2.3-py3-none-any.whl (24 kB)\n",
      "Downloading pendulum-3.1.0-cp311-cp311-win_amd64.whl (260 kB)\n",
      "   ---------------------------------------- 0.0/260.3 kB ? eta -:--:--\n",
      "   --------------------------------------- 260.3/260.3 kB 15.6 MB/s eta 0:00:00\n",
      "Downloading pluggy-1.6.0-py3-none-any.whl (20 kB)\n",
      "Downloading requirements_parser-0.11.0-py3-none-any.whl (14 kB)\n",
      "Downloading packaging-25.0-py3-none-any.whl (66 kB)\n",
      "   ---------------------------------------- 0.0/66.5 kB ? eta -:--:--\n",
      "   ---------------------------------------- 66.5/66.5 kB 3.7 MB/s eta 0:00:00\n",
      "Downloading rich_argparse-1.7.0-py3-none-any.whl (25 kB)\n",
      "Downloading semver-3.0.4-py3-none-any.whl (17 kB)\n",
      "Downloading win_precise_time-1.4.2-cp311-cp311-win_amd64.whl (14 kB)\n",
      "Downloading gitdb-4.0.12-py3-none-any.whl (62 kB)\n",
      "   ---------------------------------------- 0.0/62.8 kB ? eta -:--:--\n",
      "   ---------------------------------------- 62.8/62.8 kB 3.5 MB/s eta 0:00:00\n",
      "Downloading types_setuptools-80.7.0.20250516-py3-none-any.whl (63 kB)\n",
      "   ---------------------------------------- 0.0/63.3 kB ? eta -:--:--\n",
      "   ---------------------------------------- 63.3/63.3 kB ? eta 0:00:00\n",
      "Using cached ply-3.11-py2.py3-none-any.whl (49 kB)\n",
      "Downloading smmap-5.0.2-py3-none-any.whl (24 kB)\n",
      "Installing collected packages: ply, makefun, win-precise-time, types-setuptools, smmap, semver, pluggy, pathvalidate, packaging, jsonpath-ng, humanize, hexbytes, giturlparse, requirements-parser, pendulum, gitdb, rich-argparse, gitpython, dlt\n",
      "  Attempting uninstall: packaging\n",
      "    Found existing installation: packaging 23.1\n",
      "    Uninstalling packaging-23.1:\n",
      "      Successfully uninstalled packaging-23.1\n",
      "Successfully installed dlt-1.11.0 gitdb-4.0.12 gitpython-3.1.44 giturlparse-0.12.0 hexbytes-1.3.1 humanize-4.12.3 jsonpath-ng-1.7.0 makefun-1.16.0 packaging-25.0 pathvalidate-3.2.3 pendulum-3.1.0 pluggy-1.6.0 ply-3.11 requirements-parser-0.11.0 rich-argparse-1.7.0 semver-3.0.4 smmap-5.0.2 types-setuptools-80.7.0.20250516 win-precise-time-1.4.2\n"
     ]
    },
    {
     "name": "stderr",
     "output_type": "stream",
     "text": [
      "  WARNING: The script pysemver.exe is installed in 'C:\\Users\\urios\\AppData\\Roaming\\Python\\Python311\\Scripts' which is not on PATH.\n",
      "  Consider adding this directory to PATH or, if you prefer to suppress this warning, use --no-warn-script-location.\n",
      "  WARNING: The script jsonpath_ng.exe is installed in 'C:\\Users\\urios\\AppData\\Roaming\\Python\\Python311\\Scripts' which is not on PATH.\n",
      "  Consider adding this directory to PATH or, if you prefer to suppress this warning, use --no-warn-script-location.\n",
      "  WARNING: The script dlt.exe is installed in 'C:\\Users\\urios\\AppData\\Roaming\\Python\\Python311\\Scripts' which is not on PATH.\n",
      "  Consider adding this directory to PATH or, if you prefer to suppress this warning, use --no-warn-script-location.\n",
      "ERROR: pip's dependency resolver does not currently take into account all the packages that are installed. This behaviour is the source of the following dependency conflicts.\n",
      "snowflake-connector-python 3.10.1 requires cryptography<43.0.0,>=3.1.0, which is not installed.\n",
      "snowflake-connector-python 3.10.1 requires pyjwt<3.0.0, which is not installed.\n",
      "snowflake-connector-python 3.10.1 requires pyOpenSSL<25.0.0,>=16.2.0, which is not installed.\n",
      "snowflake-connector-python 3.10.1 requires sortedcontainers>=2.4.0, which is not installed.\n",
      "\n",
      "[notice] A new release of pip is available: 24.1.2 -> 25.1.1\n",
      "[notice] To update, run: python.exe -m pip install --upgrade pip\n"
     ]
    }
   ],
   "source": [
    "#!pip install dlt"
   ]
  },
  {
   "cell_type": "markdown",
   "metadata": {},
   "source": [
    "**Data Load Tool** se emplea para la obtención e inserción de los datos en sistemas que controlemos nosotros. A modo sencillo podemos ver cómo podemos por ejemplo obtener datos de una API (hemos limitado el número de datos para que no se haga largo).\n",
    "\n",
    "En este caso consultaremos una versión paginada de la API de pokemon... https://pokeapi.co/docs/v2#info"
   ]
  },
  {
   "cell_type": "code",
   "execution_count": 1,
   "metadata": {},
   "outputs": [],
   "source": [
    "from dlt.sources.helpers.rest_client import RESTClient\n",
    "\n",
    "# Initialize the RESTClient with the Pokémon API base URL\n",
    "client = RESTClient(base_url=\"https://pokeapi.co/api/v2\")\n",
    "\n",
    "# Using the paginate method to automatically handle pagination\n",
    "num = 10\n",
    "poke_list = []\n",
    "for page in client.paginate(\"/pokemon\"):\n",
    "    poke_list += page\n",
    "    num -= 1\n",
    "\n",
    "    # Paramos al obtener 10\n",
    "    if num == 0:\n",
    "        break"
   ]
  },
  {
   "cell_type": "markdown",
   "metadata": {},
   "source": [
    "Con esto podemos montar nuestro dataframe, operar sobre él y cargarlo en un sistema destino."
   ]
  },
  {
   "cell_type": "code",
   "execution_count": 2,
   "metadata": {},
   "outputs": [
    {
     "data": {
      "text/html": [
       "<div>\n",
       "<style scoped>\n",
       "    .dataframe tbody tr th:only-of-type {\n",
       "        vertical-align: middle;\n",
       "    }\n",
       "\n",
       "    .dataframe tbody tr th {\n",
       "        vertical-align: top;\n",
       "    }\n",
       "\n",
       "    .dataframe thead th {\n",
       "        text-align: right;\n",
       "    }\n",
       "</style>\n",
       "<table border=\"1\" class=\"dataframe\">\n",
       "  <thead>\n",
       "    <tr style=\"text-align: right;\">\n",
       "      <th></th>\n",
       "      <th>name</th>\n",
       "      <th>url</th>\n",
       "    </tr>\n",
       "  </thead>\n",
       "  <tbody>\n",
       "    <tr>\n",
       "      <th>0</th>\n",
       "      <td>bulbasaur</td>\n",
       "      <td>https://pokeapi.co/api/v2/pokemon/1/</td>\n",
       "    </tr>\n",
       "    <tr>\n",
       "      <th>1</th>\n",
       "      <td>ivysaur</td>\n",
       "      <td>https://pokeapi.co/api/v2/pokemon/2/</td>\n",
       "    </tr>\n",
       "    <tr>\n",
       "      <th>2</th>\n",
       "      <td>venusaur</td>\n",
       "      <td>https://pokeapi.co/api/v2/pokemon/3/</td>\n",
       "    </tr>\n",
       "    <tr>\n",
       "      <th>3</th>\n",
       "      <td>charmander</td>\n",
       "      <td>https://pokeapi.co/api/v2/pokemon/4/</td>\n",
       "    </tr>\n",
       "    <tr>\n",
       "      <th>4</th>\n",
       "      <td>charmeleon</td>\n",
       "      <td>https://pokeapi.co/api/v2/pokemon/5/</td>\n",
       "    </tr>\n",
       "    <tr>\n",
       "      <th>...</th>\n",
       "      <td>...</td>\n",
       "      <td>...</td>\n",
       "    </tr>\n",
       "    <tr>\n",
       "      <th>195</th>\n",
       "      <td>espeon</td>\n",
       "      <td>https://pokeapi.co/api/v2/pokemon/196/</td>\n",
       "    </tr>\n",
       "    <tr>\n",
       "      <th>196</th>\n",
       "      <td>umbreon</td>\n",
       "      <td>https://pokeapi.co/api/v2/pokemon/197/</td>\n",
       "    </tr>\n",
       "    <tr>\n",
       "      <th>197</th>\n",
       "      <td>murkrow</td>\n",
       "      <td>https://pokeapi.co/api/v2/pokemon/198/</td>\n",
       "    </tr>\n",
       "    <tr>\n",
       "      <th>198</th>\n",
       "      <td>slowking</td>\n",
       "      <td>https://pokeapi.co/api/v2/pokemon/199/</td>\n",
       "    </tr>\n",
       "    <tr>\n",
       "      <th>199</th>\n",
       "      <td>misdreavus</td>\n",
       "      <td>https://pokeapi.co/api/v2/pokemon/200/</td>\n",
       "    </tr>\n",
       "  </tbody>\n",
       "</table>\n",
       "<p>200 rows × 2 columns</p>\n",
       "</div>"
      ],
      "text/plain": [
       "           name                                     url\n",
       "0     bulbasaur    https://pokeapi.co/api/v2/pokemon/1/\n",
       "1       ivysaur    https://pokeapi.co/api/v2/pokemon/2/\n",
       "2      venusaur    https://pokeapi.co/api/v2/pokemon/3/\n",
       "3    charmander    https://pokeapi.co/api/v2/pokemon/4/\n",
       "4    charmeleon    https://pokeapi.co/api/v2/pokemon/5/\n",
       "..          ...                                     ...\n",
       "195      espeon  https://pokeapi.co/api/v2/pokemon/196/\n",
       "196     umbreon  https://pokeapi.co/api/v2/pokemon/197/\n",
       "197     murkrow  https://pokeapi.co/api/v2/pokemon/198/\n",
       "198    slowking  https://pokeapi.co/api/v2/pokemon/199/\n",
       "199  misdreavus  https://pokeapi.co/api/v2/pokemon/200/\n",
       "\n",
       "[200 rows x 2 columns]"
      ]
     },
     "execution_count": 2,
     "metadata": {},
     "output_type": "execute_result"
    }
   ],
   "source": [
    "import pandas as pd\n",
    "\n",
    "poke_df = pd.DataFrame(poke_list)\n",
    "poke_df"
   ]
  },
  {
   "cell_type": "markdown",
   "metadata": {},
   "source": [
    "Los pipelines son la forma de definir esas tuberías de entrada y almacenamiento de datos de manera que se ejecuten de forma continua. Todavía no hemos hablado de las bases de datos pero son un destino frecuente a la hora de definir nuestros destinos."
   ]
  },
  {
   "cell_type": "code",
   "execution_count": null,
   "metadata": {},
   "outputs": [
    {
     "name": "stdout",
     "output_type": "stream",
     "text": [
      "Defaulting to user installation because normal site-packages is not writeable\n",
      "Collecting duckdb\n",
      "  Downloading duckdb-1.2.2-cp311-cp311-win_amd64.whl.metadata (995 bytes)\n",
      "Downloading duckdb-1.2.2-cp311-cp311-win_amd64.whl (11.4 MB)\n",
      "   ---------------------------------------- 0.0/11.4 MB ? eta -:--:--\n",
      "   ---------------------------------------- 0.1/11.4 MB 4.5 MB/s eta 0:00:03\n",
      "   - -------------------------------------- 0.5/11.4 MB 6.0 MB/s eta 0:00:02\n",
      "   ------ --------------------------------- 2.0/11.4 MB 15.8 MB/s eta 0:00:01\n",
      "   ------------- -------------------------- 3.8/11.4 MB 22.1 MB/s eta 0:00:01\n",
      "   -------------------- ------------------- 5.8/11.4 MB 26.6 MB/s eta 0:00:01\n",
      "   --------------------------- ------------ 7.9/11.4 MB 31.5 MB/s eta 0:00:01\n",
      "   ---------------------------------- ----- 9.9/11.4 MB 33.4 MB/s eta 0:00:01\n",
      "   ---------------------------------------  11.4/11.4 MB 40.9 MB/s eta 0:00:01\n",
      "   ---------------------------------------- 11.4/11.4 MB 34.4 MB/s eta 0:00:00\n",
      "Installing collected packages: duckdb\n",
      "Successfully installed duckdb-1.2.2\n"
     ]
    },
    {
     "name": "stderr",
     "output_type": "stream",
     "text": [
      "\n",
      "[notice] A new release of pip is available: 24.1.2 -> 25.1.1\n",
      "[notice] To update, run: python.exe -m pip install --upgrade pip\n"
     ]
    }
   ],
   "source": [
    "#!pip install duckdb"
   ]
  },
  {
   "cell_type": "code",
   "execution_count": 5,
   "metadata": {},
   "outputs": [
    {
     "name": "stdout",
     "output_type": "stream",
     "text": [
      "Pipeline dlt_ipykernel_launcher load step completed in 0.20 seconds\n",
      "1 load package(s) were loaded to destination duckdb and into dataset country_data\n",
      "The duckdb destination used duckdb:///c:\\DS_PT_MAR2025\\MI_DSPT2025\\2-Data Analysis\\5-Fuentes de datos\\Web\\Teoría\\dlt_ipykernel_launcher.duckdb location to store data\n",
      "Load package 1747420874.8055952 is LOADED and contains no failed jobs\n"
     ]
    }
   ],
   "source": [
    "import dlt\n",
    "\n",
    "pipeline = dlt.pipeline(destination=\"duckdb\", dataset_name=\"country_data\")\n",
    "\n",
    "data = [\n",
    "    {'country': 'USA', 'population': 331449281, 'capital': 'Washington, D.C.'},\n",
    "    {'country': 'Canada', 'population': 38005238, 'capital': 'Ottawa'},\n",
    "    {'country': 'Germany', 'population': 83019200, 'capital': 'Berlin'}\n",
    "]\n",
    "\n",
    "info = pipeline.run(data, table_name=\"countries\")\n",
    "\n",
    "print(info)"
   ]
  },
  {
   "cell_type": "code",
   "execution_count": 6,
   "metadata": {},
   "outputs": [
    {
     "data": {
      "text/plain": [
       "'country_data'"
      ]
     },
     "execution_count": 6,
     "metadata": {},
     "output_type": "execute_result"
    }
   ],
   "source": [
    "info.dataset_name"
   ]
  },
  {
   "cell_type": "code",
   "execution_count": 7,
   "metadata": {},
   "outputs": [
    {
     "data": {
      "text/plain": [
       "┌────────────────────────┬──────────────┬─────────────────────┬──────────────────────────────────────────────────────────────────────────────────────────────────┬─────────────────────────────────────────────────────────────────────────────────────────┬───────────┐\n",
       "│        database        │    schema    │        name         │                                           column_names                                           │                                      column_types                                       │ temporary │\n",
       "│        varchar         │   varchar    │       varchar       │                                            varchar[]                                             │                                        varchar[]                                        │  boolean  │\n",
       "├────────────────────────┼──────────────┼─────────────────────┼──────────────────────────────────────────────────────────────────────────────────────────────────┼─────────────────────────────────────────────────────────────────────────────────────────┼───────────┤\n",
       "│ dlt_ipykernel_launcher │ country_data │ _dlt_loads          │ [load_id, schema_name, status, inserted_at, schema_version_hash]                                 │ [VARCHAR, VARCHAR, BIGINT, TIMESTAMP WITH TIME ZONE, VARCHAR]                           │ false     │\n",
       "│ dlt_ipykernel_launcher │ country_data │ _dlt_pipeline_state │ [version, engine_version, pipeline_name, state, created_at, version_hash, _dlt_load_id, _dlt_id] │ [BIGINT, BIGINT, VARCHAR, VARCHAR, TIMESTAMP WITH TIME ZONE, VARCHAR, VARCHAR, VARCHAR] │ false     │\n",
       "│ dlt_ipykernel_launcher │ country_data │ _dlt_version        │ [version, engine_version, inserted_at, schema_name, version_hash, schema]                        │ [BIGINT, BIGINT, TIMESTAMP WITH TIME ZONE, VARCHAR, VARCHAR, VARCHAR]                   │ false     │\n",
       "│ dlt_ipykernel_launcher │ country_data │ countries           │ [country, population, capital, _dlt_load_id, _dlt_id]                                            │ [VARCHAR, BIGINT, VARCHAR, VARCHAR, VARCHAR]                                            │ false     │\n",
       "└────────────────────────┴──────────────┴─────────────────────┴──────────────────────────────────────────────────────────────────────────────────────────────────┴─────────────────────────────────────────────────────────────────────────────────────────┴───────────┘"
      ]
     },
     "execution_count": 7,
     "metadata": {},
     "output_type": "execute_result"
    }
   ],
   "source": [
    "import duckdb\n",
    "\n",
    "db = duckdb.connect(database=\"dlt_ipykernel_launcher.duckdb\")\n",
    "db.sql(\"DESCRIBE;\")"
   ]
  },
  {
   "cell_type": "code",
   "execution_count": 8,
   "metadata": {},
   "outputs": [
    {
     "data": {
      "text/plain": [
       "┌─────────┬────────────┬──────────────────┬────────────────────┬────────────────┐\n",
       "│ country │ population │     capital      │    _dlt_load_id    │    _dlt_id     │\n",
       "│ varchar │   int64    │     varchar      │      varchar       │    varchar     │\n",
       "├─────────┼────────────┼──────────────────┼────────────────────┼────────────────┤\n",
       "│ USA     │  331449281 │ Washington, D.C. │ 1747420874.8055952 │ j7RaUOn391mmnA │\n",
       "│ Canada  │   38005238 │ Ottawa           │ 1747420874.8055952 │ SZOFJI5dJuhKAA │\n",
       "│ Germany │   83019200 │ Berlin           │ 1747420874.8055952 │ i7jqO2X6Zjhz+w │\n",
       "└─────────┴────────────┴──────────────────┴────────────────────┴────────────────┘"
      ]
     },
     "execution_count": 8,
     "metadata": {},
     "output_type": "execute_result"
    }
   ],
   "source": [
    "db.sql(\"SELECT * FROM country_data.countries;\")"
   ]
  },
  {
   "cell_type": "code",
   "execution_count": 9,
   "metadata": {},
   "outputs": [
    {
     "data": {
      "text/html": [
       "<div>\n",
       "<style scoped>\n",
       "    .dataframe tbody tr th:only-of-type {\n",
       "        vertical-align: middle;\n",
       "    }\n",
       "\n",
       "    .dataframe tbody tr th {\n",
       "        vertical-align: top;\n",
       "    }\n",
       "\n",
       "    .dataframe thead th {\n",
       "        text-align: right;\n",
       "    }\n",
       "</style>\n",
       "<table border=\"1\" class=\"dataframe\">\n",
       "  <thead>\n",
       "    <tr style=\"text-align: right;\">\n",
       "      <th></th>\n",
       "      <th>country</th>\n",
       "      <th>population</th>\n",
       "      <th>capital</th>\n",
       "      <th>_dlt_load_id</th>\n",
       "      <th>_dlt_id</th>\n",
       "    </tr>\n",
       "  </thead>\n",
       "  <tbody>\n",
       "    <tr>\n",
       "      <th>0</th>\n",
       "      <td>USA</td>\n",
       "      <td>331449281</td>\n",
       "      <td>Washington, D.C.</td>\n",
       "      <td>1747420874.8055952</td>\n",
       "      <td>j7RaUOn391mmnA</td>\n",
       "    </tr>\n",
       "    <tr>\n",
       "      <th>1</th>\n",
       "      <td>Canada</td>\n",
       "      <td>38005238</td>\n",
       "      <td>Ottawa</td>\n",
       "      <td>1747420874.8055952</td>\n",
       "      <td>SZOFJI5dJuhKAA</td>\n",
       "    </tr>\n",
       "    <tr>\n",
       "      <th>2</th>\n",
       "      <td>Germany</td>\n",
       "      <td>83019200</td>\n",
       "      <td>Berlin</td>\n",
       "      <td>1747420874.8055952</td>\n",
       "      <td>i7jqO2X6Zjhz+w</td>\n",
       "    </tr>\n",
       "  </tbody>\n",
       "</table>\n",
       "</div>"
      ],
      "text/plain": [
       "   country  population           capital        _dlt_load_id         _dlt_id\n",
       "0      USA   331449281  Washington, D.C.  1747420874.8055952  j7RaUOn391mmnA\n",
       "1   Canada    38005238            Ottawa  1747420874.8055952  SZOFJI5dJuhKAA\n",
       "2  Germany    83019200            Berlin  1747420874.8055952  i7jqO2X6Zjhz+w"
      ]
     },
     "execution_count": 9,
     "metadata": {},
     "output_type": "execute_result"
    }
   ],
   "source": [
    "data_df = db.sql(\"SELECT * FROM country_data.countries;\").df()\n",
    "data_df"
   ]
  },
  {
   "cell_type": "code",
   "execution_count": 10,
   "metadata": {},
   "outputs": [
    {
     "data": {
      "text/plain": [
       "pandas.core.frame.DataFrame"
      ]
     },
     "execution_count": 10,
     "metadata": {},
     "output_type": "execute_result"
    }
   ],
   "source": [
    "type(data_df)"
   ]
  },
  {
   "cell_type": "markdown",
   "metadata": {},
   "source": [
    "Podemos montar estructuras complejas que se hagan cargo de ir obteniendo los datos periodicamente y formando nuestra base de datos."
   ]
  },
  {
   "cell_type": "code",
   "execution_count": 11,
   "metadata": {},
   "outputs": [
    {
     "name": "stderr",
     "output_type": "stream",
     "text": [
      "C:\\Users\\urios\\AppData\\Local\\Temp\\ipykernel_11260\\1588594181.py:7: DeprecationWarning: JSONResponsePaginator is deprecated and will be removed in version 1.0.0. Use JSONLinkPaginator instead.\n",
      "  paginator=JSONResponsePaginator(next_url_path=\"next\"),\n"
     ]
    },
    {
     "name": "stdout",
     "output_type": "stream",
     "text": [
      "----------------------------- Extract get_pokemons -----------------------------\n",
      "Resources: 0/1 (0.0%) | Time: 0.00s | Rate: 0.00/s\n",
      "Memory usage: 212.21 MB (82.00%) | CPU usage: 0.00%\n",
      "\n",
      "----------------------------- Extract get_pokemons -----------------------------\n",
      "Resources: 0/1 (0.0%) | Time: 0.39s | Rate: 0.00/s\n",
      "get_pokemons: 100  | Time: 0.00s | Rate: 0.00/s\n",
      "Memory usage: 213.31 MB (82.10%) | CPU usage: 0.00%\n",
      "\n",
      "----------------------------- Extract get_pokemons -----------------------------\n",
      "Resources: 1/1 (100.0%) | Time: 0.99s | Rate: 1.01/s\n",
      "get_pokemons: 1302  | Time: 0.59s | Rate: 2190.89/s\n",
      "Memory usage: 215.86 MB (82.10%) | CPU usage: 0.00%\n",
      "\n",
      "----------------------------- Extract get_pokemons -----------------------------\n",
      "Resources: 0/1 (0.0%) | Time: 0.00s | Rate: 0.00/s\n",
      "Memory usage: 215.86 MB (82.10%) | CPU usage: 0.00%\n",
      "\n",
      "----------------------------- Extract get_pokemons -----------------------------\n",
      "Resources: 0/1 (0.0%) | Time: 0.01s | Rate: 0.00/s\n",
      "_dlt_pipeline_state: 1  | Time: 0.00s | Rate: 0.00/s\n",
      "Memory usage: 215.86 MB (82.10%) | CPU usage: 0.00%\n",
      "\n",
      "----------------------------- Extract get_pokemons -----------------------------\n",
      "Resources: 1/1 (100.0%) | Time: 0.04s | Rate: 28.36/s\n",
      "_dlt_pipeline_state: 1  | Time: 0.03s | Rate: 35.91/s\n",
      "Memory usage: 215.86 MB (82.10%) | CPU usage: 0.00%\n",
      "\n",
      "----------------- Normalize get_pokemons in 1747420893.8823023 -----------------\n",
      "Files: 0/2 (0.0%) | Time: 0.00s | Rate: 0.00/s\n",
      "Memory usage: 215.86 MB (82.10%) | CPU usage: 0.00%\n",
      "\n",
      "----------------- Normalize get_pokemons in 1747420893.8823023 -----------------\n",
      "Files: 0/2 (0.0%) | Time: 0.02s | Rate: 0.00/s\n",
      "Items: 0  | Time: 0.00s | Rate: 0.00/s\n",
      "Memory usage: 215.86 MB (82.10%) | CPU usage: 0.00%\n",
      "\n",
      "----------------- Normalize get_pokemons in 1747420893.8823023 -----------------\n",
      "Files: 2/2 (100.0%) | Time: 0.07s | Rate: 27.33/s\n",
      "Items: 1303  | Time: 0.06s | Rate: 22936.24/s\n",
      "Memory usage: 216.32 MB (82.10%) | CPU usage: 0.00%\n",
      "\n",
      "------------------- Load get_pokemons in 1747420893.8823023 --------------------\n",
      "Jobs: 0/2 (0.0%) | Time: 0.00s | Rate: 0.00/s\n",
      "Memory usage: 216.36 MB (82.10%) | CPU usage: 0.00%\n",
      "\n",
      "------------------- Load get_pokemons in 1747420893.8823023 --------------------\n",
      "Jobs: 2/2 (100.0%) | Time: 0.20s | Rate: 9.98/s\n",
      "Memory usage: 214.84 MB (82.00%) | CPU usage: 0.00%\n",
      "\n",
      "Pipeline get_pokemons load step completed in 0.20 seconds\n",
      "1 load package(s) were loaded to destination duckdb and into dataset pokemons\n",
      "The duckdb destination used duckdb:///c:\\DS_PT_MAR2025\\MI_DSPT2025\\2-Data Analysis\\5-Fuentes de datos\\Web\\Teoría\\get_pokemons.duckdb location to store data\n",
      "Load package 1747420893.8823023 is LOADED and contains no failed jobs\n"
     ]
    }
   ],
   "source": [
    "import dlt\n",
    "from dlt.sources.helpers.rest_client import RESTClient\n",
    "from dlt.sources.helpers.rest_client.paginators import JSONResponsePaginator\n",
    "\n",
    "github_client = RESTClient(\n",
    "    base_url=\"https://pokeapi.co/api/v2\",\n",
    "    paginator=JSONResponsePaginator(next_url_path=\"next\"),\n",
    "    data_selector=\"results\"\n",
    ")\n",
    "\n",
    "@dlt.resource\n",
    "def get_pokemons():\n",
    "    for page in github_client.paginate(\n",
    "        \"/pokemon\",\n",
    "        params={\n",
    "            \"limit\": 100,\n",
    "        },\n",
    "    ):\n",
    "        yield page\n",
    "\n",
    "pipeline = dlt.pipeline(\n",
    "    pipeline_name=\"get_pokemons\",\n",
    "    destination=\"duckdb\",\n",
    "    dataset_name=\"pokemons\",\n",
    "    progress='log'\n",
    ")\n",
    "load_info = pipeline.run(get_pokemons)\n",
    "print(load_info)"
   ]
  },
  {
   "cell_type": "code",
   "execution_count": 12,
   "metadata": {},
   "outputs": [
    {
     "data": {
      "text/plain": [
       "┌──────────────┬──────────┬─────────────────────┬──────────────────────────────────────────────────────────────────────────────────────────────────┬─────────────────────────────────────────────────────────────────────────────────────────┬───────────┐\n",
       "│   database   │  schema  │        name         │                                           column_names                                           │                                      column_types                                       │ temporary │\n",
       "│   varchar    │ varchar  │       varchar       │                                            varchar[]                                             │                                        varchar[]                                        │  boolean  │\n",
       "├──────────────┼──────────┼─────────────────────┼──────────────────────────────────────────────────────────────────────────────────────────────────┼─────────────────────────────────────────────────────────────────────────────────────────┼───────────┤\n",
       "│ get_pokemons │ pokemons │ _dlt_loads          │ [load_id, schema_name, status, inserted_at, schema_version_hash]                                 │ [VARCHAR, VARCHAR, BIGINT, TIMESTAMP WITH TIME ZONE, VARCHAR]                           │ false     │\n",
       "│ get_pokemons │ pokemons │ _dlt_pipeline_state │ [version, engine_version, pipeline_name, state, created_at, version_hash, _dlt_load_id, _dlt_id] │ [BIGINT, BIGINT, VARCHAR, VARCHAR, TIMESTAMP WITH TIME ZONE, VARCHAR, VARCHAR, VARCHAR] │ false     │\n",
       "│ get_pokemons │ pokemons │ _dlt_version        │ [version, engine_version, inserted_at, schema_name, version_hash, schema]                        │ [BIGINT, BIGINT, TIMESTAMP WITH TIME ZONE, VARCHAR, VARCHAR, VARCHAR]                   │ false     │\n",
       "│ get_pokemons │ pokemons │ get_pokemons        │ [name, url, _dlt_load_id, _dlt_id]                                                               │ [VARCHAR, VARCHAR, VARCHAR, VARCHAR]                                                    │ false     │\n",
       "└──────────────┴──────────┴─────────────────────┴──────────────────────────────────────────────────────────────────────────────────────────────────┴─────────────────────────────────────────────────────────────────────────────────────────┴───────────┘"
      ]
     },
     "execution_count": 12,
     "metadata": {},
     "output_type": "execute_result"
    }
   ],
   "source": [
    "db = duckdb.connect(database=\"get_pokemons.duckdb\")\n",
    "db.sql(\"DESCRIBE;\")"
   ]
  },
  {
   "cell_type": "code",
   "execution_count": 13,
   "metadata": {},
   "outputs": [
    {
     "data": {
      "text/html": [
       "<div>\n",
       "<style scoped>\n",
       "    .dataframe tbody tr th:only-of-type {\n",
       "        vertical-align: middle;\n",
       "    }\n",
       "\n",
       "    .dataframe tbody tr th {\n",
       "        vertical-align: top;\n",
       "    }\n",
       "\n",
       "    .dataframe thead th {\n",
       "        text-align: right;\n",
       "    }\n",
       "</style>\n",
       "<table border=\"1\" class=\"dataframe\">\n",
       "  <thead>\n",
       "    <tr style=\"text-align: right;\">\n",
       "      <th></th>\n",
       "      <th>name</th>\n",
       "      <th>url</th>\n",
       "      <th>_dlt_load_id</th>\n",
       "      <th>_dlt_id</th>\n",
       "    </tr>\n",
       "  </thead>\n",
       "  <tbody>\n",
       "    <tr>\n",
       "      <th>0</th>\n",
       "      <td>bulbasaur</td>\n",
       "      <td>https://pokeapi.co/api/v2/pokemon/1/</td>\n",
       "      <td>1747420893.8823023</td>\n",
       "      <td>M/04NYsmWjyUXw</td>\n",
       "    </tr>\n",
       "    <tr>\n",
       "      <th>1</th>\n",
       "      <td>ivysaur</td>\n",
       "      <td>https://pokeapi.co/api/v2/pokemon/2/</td>\n",
       "      <td>1747420893.8823023</td>\n",
       "      <td>bUmJ4oFMPDrQtg</td>\n",
       "    </tr>\n",
       "    <tr>\n",
       "      <th>2</th>\n",
       "      <td>venusaur</td>\n",
       "      <td>https://pokeapi.co/api/v2/pokemon/3/</td>\n",
       "      <td>1747420893.8823023</td>\n",
       "      <td>njZ8bmmH1V6qfA</td>\n",
       "    </tr>\n",
       "    <tr>\n",
       "      <th>3</th>\n",
       "      <td>charmander</td>\n",
       "      <td>https://pokeapi.co/api/v2/pokemon/4/</td>\n",
       "      <td>1747420893.8823023</td>\n",
       "      <td>gVNIsUI/EC/+Iw</td>\n",
       "    </tr>\n",
       "    <tr>\n",
       "      <th>4</th>\n",
       "      <td>charmeleon</td>\n",
       "      <td>https://pokeapi.co/api/v2/pokemon/5/</td>\n",
       "      <td>1747420893.8823023</td>\n",
       "      <td>0aMfe6WBq2k3ZQ</td>\n",
       "    </tr>\n",
       "    <tr>\n",
       "      <th>...</th>\n",
       "      <td>...</td>\n",
       "      <td>...</td>\n",
       "      <td>...</td>\n",
       "      <td>...</td>\n",
       "    </tr>\n",
       "    <tr>\n",
       "      <th>1297</th>\n",
       "      <td>ogerpon-wellspring-mask</td>\n",
       "      <td>https://pokeapi.co/api/v2/pokemon/10273/</td>\n",
       "      <td>1747420893.8823023</td>\n",
       "      <td>HBaZ1k+fMaCc8A</td>\n",
       "    </tr>\n",
       "    <tr>\n",
       "      <th>1298</th>\n",
       "      <td>ogerpon-hearthflame-mask</td>\n",
       "      <td>https://pokeapi.co/api/v2/pokemon/10274/</td>\n",
       "      <td>1747420893.8823023</td>\n",
       "      <td>G7C15QB8sok7/A</td>\n",
       "    </tr>\n",
       "    <tr>\n",
       "      <th>1299</th>\n",
       "      <td>ogerpon-cornerstone-mask</td>\n",
       "      <td>https://pokeapi.co/api/v2/pokemon/10275/</td>\n",
       "      <td>1747420893.8823023</td>\n",
       "      <td>O0jW/HKaL6LB3A</td>\n",
       "    </tr>\n",
       "    <tr>\n",
       "      <th>1300</th>\n",
       "      <td>terapagos-terastal</td>\n",
       "      <td>https://pokeapi.co/api/v2/pokemon/10276/</td>\n",
       "      <td>1747420893.8823023</td>\n",
       "      <td>7nLD7RPBHIsHgA</td>\n",
       "    </tr>\n",
       "    <tr>\n",
       "      <th>1301</th>\n",
       "      <td>terapagos-stellar</td>\n",
       "      <td>https://pokeapi.co/api/v2/pokemon/10277/</td>\n",
       "      <td>1747420893.8823023</td>\n",
       "      <td>a4Dnrl1+kShQSw</td>\n",
       "    </tr>\n",
       "  </tbody>\n",
       "</table>\n",
       "<p>1302 rows × 4 columns</p>\n",
       "</div>"
      ],
      "text/plain": [
       "                          name                                       url  \\\n",
       "0                    bulbasaur      https://pokeapi.co/api/v2/pokemon/1/   \n",
       "1                      ivysaur      https://pokeapi.co/api/v2/pokemon/2/   \n",
       "2                     venusaur      https://pokeapi.co/api/v2/pokemon/3/   \n",
       "3                   charmander      https://pokeapi.co/api/v2/pokemon/4/   \n",
       "4                   charmeleon      https://pokeapi.co/api/v2/pokemon/5/   \n",
       "...                        ...                                       ...   \n",
       "1297   ogerpon-wellspring-mask  https://pokeapi.co/api/v2/pokemon/10273/   \n",
       "1298  ogerpon-hearthflame-mask  https://pokeapi.co/api/v2/pokemon/10274/   \n",
       "1299  ogerpon-cornerstone-mask  https://pokeapi.co/api/v2/pokemon/10275/   \n",
       "1300        terapagos-terastal  https://pokeapi.co/api/v2/pokemon/10276/   \n",
       "1301         terapagos-stellar  https://pokeapi.co/api/v2/pokemon/10277/   \n",
       "\n",
       "            _dlt_load_id         _dlt_id  \n",
       "0     1747420893.8823023  M/04NYsmWjyUXw  \n",
       "1     1747420893.8823023  bUmJ4oFMPDrQtg  \n",
       "2     1747420893.8823023  njZ8bmmH1V6qfA  \n",
       "3     1747420893.8823023  gVNIsUI/EC/+Iw  \n",
       "4     1747420893.8823023  0aMfe6WBq2k3ZQ  \n",
       "...                  ...             ...  \n",
       "1297  1747420893.8823023  HBaZ1k+fMaCc8A  \n",
       "1298  1747420893.8823023  G7C15QB8sok7/A  \n",
       "1299  1747420893.8823023  O0jW/HKaL6LB3A  \n",
       "1300  1747420893.8823023  7nLD7RPBHIsHgA  \n",
       "1301  1747420893.8823023  a4Dnrl1+kShQSw  \n",
       "\n",
       "[1302 rows x 4 columns]"
      ]
     },
     "execution_count": 13,
     "metadata": {},
     "output_type": "execute_result"
    }
   ],
   "source": [
    "response = db.sql(\"SELECT * FROM pokemons.get_pokemons;\")\n",
    "response.to_df()"
   ]
  }
 ],
 "metadata": {
  "kernelspec": {
   "display_name": "Python3119",
   "language": "python",
   "name": "python3"
  },
  "language_info": {
   "codemirror_mode": {
    "name": "ipython",
    "version": 3
   },
   "file_extension": ".py",
   "mimetype": "text/x-python",
   "name": "python",
   "nbconvert_exporter": "python",
   "pygments_lexer": "ipython3",
   "version": "3.11.9"
  }
 },
 "nbformat": 4,
 "nbformat_minor": 2
}
