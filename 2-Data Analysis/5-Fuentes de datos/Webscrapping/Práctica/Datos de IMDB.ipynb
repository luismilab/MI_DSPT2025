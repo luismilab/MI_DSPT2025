{
 "cells": [
  {
   "attachments": {},
   "cell_type": "markdown",
   "metadata": {
    "colab_type": "text",
    "id": "JpS8k_tshonl"
   },
   "source": [
    "## Web scrapping de IMDB"
   ]
  },
  {
   "attachments": {},
   "cell_type": "markdown",
   "metadata": {},
   "source": [
    "Descarga la información correspondiente y guarda en un dataframe el top de las 250 películas mediante webscrapping. La dirección es https://www.imdb.com/chart/top/?ref_=nv_mv_250\n",
    "\n",
    "Obtén:\n",
    "* Título\n",
    "* Año\n",
    "* Duración\n",
    "* Posición\n",
    "* Rating\n",
    "\n",
    "A veces las páginas web se protegen de las arañas con lo que deberéis simular ser un usuario... podéis instalar\n",
    "\n",
    "`!pip install fake-useragent`\n",
    "\n",
    "Y luego invocar\n",
    "\n",
    "```py\n",
    "from fake_useragent import UserAgent\n",
    "ua = UserAgent()\n",
    "headers = {'User-Agent': ua.random}\n",
    "response = requests.get(url, headers=headers)\n",
    "```"
   ]
  }
 ],
 "metadata": {
  "colab": {
   "name": "1-DataAccess.ipynb",
   "provenance": []
  },
  "kernelspec": {
   "display_name": "Python 3.7.4 64-bit",
   "language": "python",
   "name": "python3"
  },
  "language_info": {
   "codemirror_mode": {
    "name": "ipython",
    "version": 3
   },
   "file_extension": ".py",
   "mimetype": "text/x-python",
   "name": "python",
   "nbconvert_exporter": "python",
   "pygments_lexer": "ipython3",
   "version": "3.10.12"
  },
  "vscode": {
   "interpreter": {
    "hash": "90139cb9a825bf3d63f6f6704e828dbd1ff7edbd4d0c6e906a71235d6efc74af"
   }
  }
 },
 "nbformat": 4,
 "nbformat_minor": 4
}
